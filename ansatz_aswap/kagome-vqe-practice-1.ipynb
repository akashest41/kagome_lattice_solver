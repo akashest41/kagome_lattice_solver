{
 "cells": [
  {
   "cell_type": "code",
   "execution_count": 1,
   "id": "18e2cee6",
   "metadata": {},
   "outputs": [],
   "source": [
    "import numpy as np\n",
    "\n",
    "from time import time\n",
    "\n",
    "import matplotlib.pyplot as plt\n",
    "plt.rcParams.update({\"font.size\": 16})  # enlarge matplotlib fonts"
   ]
  },
  {
   "cell_type": "code",
   "execution_count": 2,
   "id": "15684bbb",
   "metadata": {},
   "outputs": [
    {
     "name": "stdout",
     "output_type": "stream",
     "text": [
      "0\n",
      "1\n",
      "2\n"
     ]
    }
   ],
   "source": [
    "num_sites = 3\n",
    "for i in range(num_sites):\n",
    "    print(i)"
   ]
  },
  {
   "cell_type": "code",
   "execution_count": 3,
   "id": "9f548fa9",
   "metadata": {},
   "outputs": [],
   "source": [
    "import retworkx as rx\n",
    "\n",
    "from qiskit_nature.problems.second_quantization.lattice import Lattice"
   ]
  },
  {
   "cell_type": "code",
   "execution_count": 4,
   "id": "886fb45f",
   "metadata": {},
   "outputs": [
    {
     "data": {
      "image/png": "[encoded data removed]",
      "text/plain": [
       "<Figure size 432x288 with 1 Axes>"
      ]
     },
     "metadata": {},
     "output_type": "display_data"
    }
   ],
   "source": [
    "# Kagome unit cell\n",
    "num_sites = 3\n",
    "# Edge weight\n",
    "t = 1.0\n",
    "\n",
    "# Generate graph of kagome unit cell\n",
    "# Start by defining all the edges\n",
    "graph = rx.PyGraph(multigraph=False)\n",
    "graph.add_nodes_from(range(num_sites))\n",
    "edge_list = [\n",
    "    (0, 1, t),\n",
    "    (1, 2, t),\n",
    "    (2, 0, t)]\n",
    "\n",
    "# Generate graph from the list of edges\n",
    "graph.add_edges_from(edge_list)\n",
    "\n",
    "# Make a Lattice from graph\n",
    "kagome_unit_cell = Lattice(graph)\n",
    "\n",
    "# Draw Lattice\n",
    "kagome_unit_cell.draw(style={'node_color':'red', 'with_labels':True})\n",
    "# plt.savefig('kagome_unit_cell.png')\n",
    "plt.show()"
   ]
  },
  {
   "cell_type": "code",
   "execution_count": 5,
   "id": "0ff8de80",
   "metadata": {},
   "outputs": [],
   "source": [
    "# Custom Heisenberg couplings\n",
    "from heisenberg_model import HeisenbergModel"
   ]
  },
  {
   "cell_type": "code",
   "execution_count": 6,
   "id": "1052fd09",
   "metadata": {},
   "outputs": [],
   "source": [
    "from qiskit_nature.mappers.second_quantization import LogarithmicMapper"
   ]
  },
  {
   "cell_type": "code",
   "execution_count": 7,
   "id": "89e22823",
   "metadata": {},
   "outputs": [
    {
     "name": "stdout",
     "output_type": "stream",
     "text": [
      "  Z_1 Z_2 * (1+0j)\n",
      "+ Z_0 Z_2 * (1+0j)\n",
      "+ Z_0 Z_1 * (1+0j)\n",
      "+ Y_1 Y_2 * (1+0j)\n",
      "+ Y_0 Y_2 * (1+0j)\n",
      "+ Y_0 Y_1 * (1+0j)\n",
      "+ X_1 X_2 * (1+0j)\n",
      "+ X_0 X_2 * (1+0j)\n",
      "+ X_0 X_1 * (1+0j)\n"
     ]
    }
   ],
   "source": [
    "# Build Hamiltonian from graph edges\n",
    "heis = HeisenbergModel.uniform_parameters(\n",
    "    lattice=kagome_unit_cell,\n",
    "    uniform_interaction=1.0,  # same spin-spin interaction weight as used in graph\n",
    "    uniform_onsite_potential=0.0,  # No single site external field\n",
    ")\n",
    "\n",
    "print(heis.second_q_ops().simplify())"
   ]
  },
  {
   "cell_type": "code",
   "execution_count": 8,
   "id": "b9672ebd",
   "metadata": {},
   "outputs": [
    {
     "data": {
      "text/plain": [
       "PauliSumOp(SparsePauliOp(['ZZI', 'ZIZ', 'IZZ', 'YYI', 'YIY', 'IYY', 'XXI', 'XIX', 'IXX'],\n",
       "              coeffs=[1.+0.j, 1.+0.j, 1.+0.j, 1.+0.j, 1.+0.j, 1.+0.j, 1.+0.j, 1.+0.j, 1.+0.j]), coeff=1)"
      ]
     },
     "execution_count": 8,
     "metadata": {},
     "output_type": "execute_result"
    }
   ],
   "source": [
    "# The Lattice needs an explicit mapping to the qubit states.\n",
    "# We map 1 qubit for 1 spin-1/2 particle using the LogarithmicMapper\n",
    "log_mapper = LogarithmicMapper()\n",
    "# Multiply by factor of 4 to account for (1/2)^2 terms from spin operators in the HeisenbergModel\n",
    "ham = 4*log_mapper.map(heis.second_q_ops().simplify())\n",
    "# Print Hamiltonian to check it's what we expect.\n",
    "# There are 18 edges and 3 terms per edge (XX, YY, and ZZ),\n",
    "# so there should be 54 equally weighted terms.\n",
    "ham"
   ]
  },
  {
   "cell_type": "code",
   "execution_count": 9,
   "id": "f8a68427",
   "metadata": {},
   "outputs": [
    {
     "name": "stdout",
     "output_type": "stream",
     "text": [
      "[-3. -3. -3.]\n"
     ]
    }
   ],
   "source": [
    "from qiskit.algorithms import NumPyEigensolver\n",
    "\n",
    "# find the first three (k=3) eigenvalues\n",
    "exact_solver = NumPyEigensolver(k=3)\n",
    "exact_result = exact_solver.compute_eigenvalues(ham)\n",
    "print(exact_result.eigenvalues)"
   ]
  },
  {
   "cell_type": "code",
   "execution_count": 10,
   "id": "d9306e59",
   "metadata": {},
   "outputs": [
    {
     "name": "stdout",
     "output_type": "stream",
     "text": [
      "-3.0\n"
     ]
    }
   ],
   "source": [
    "# Save ground state energy for later\n",
    "gs_energy = np.round(exact_result.eigenvalues[0], 4)\n",
    "print(gs_energy)"
   ]
  },
  {
   "cell_type": "code",
   "execution_count": 11,
   "id": "09de273a",
   "metadata": {},
   "outputs": [],
   "source": [
    "from qiskit import QuantumCircuit, transpile\n",
    "from qiskit.circuit import Parameter\n",
    "\n",
    "from qiskit import IBMQ"
   ]
  },
  {
   "cell_type": "code",
   "execution_count": 12,
   "id": "50e0590a",
   "metadata": {},
   "outputs": [],
   "source": [
    "# Doc for loading IBMQ account https://quantum-computing.ibm.com/lab/docs/iql/manage/account/ibmq#the-account\n",
    "\n",
    "# TOKEN='55e2df6536e204c8a32fde954a4936945598573d6bbc08eeb38f2479e791aa66bea18252ca378bf445189a9d6deace7c734c7703753c9540ab663ad7ff16a299'\n",
    "# IBMQ.save_account(TOKEN)\n",
    "\n",
    "provider = IBMQ.load_account()\n"
   ]
  },
  {
   "cell_type": "code",
   "execution_count": 13,
   "id": "0c840c46",
   "metadata": {},
   "outputs": [],
   "source": [
    "IBMQ.providers()\n",
    "provider = IBMQ.get_provider(hub='ibm-q', group='open', project='main')\n",
    "\n",
    "# Real backend; needed for transpilation later on\n",
    "# guadalupe = provider.get_backend(\"ibmq_guadalupe\")\n",
    "\n",
    "# Get fake backend if you like\n",
    "# from qiskit.providers.fake_provider import FakeGuadalupe\n",
    "\n",
    "# Noisy simulator backend\n",
    "# noisy_sim = FakeGuadalupe()"
   ]
  },
  {
   "cell_type": "code",
   "execution_count": 14,
   "id": "8659b697",
   "metadata": {},
   "outputs": [
    {
     "data": {
      "text/plain": [
       "[<IBMQSimulator('ibmq_qasm_simulator') from IBMQ(hub='ibm-q', group='open', project='main')>,\n",
       " <IBMQBackend('ibmq_lima') from IBMQ(hub='ibm-q', group='open', project='main')>,\n",
       " <IBMQBackend('ibmq_belem') from IBMQ(hub='ibm-q', group='open', project='main')>,\n",
       " <IBMQBackend('ibmq_quito') from IBMQ(hub='ibm-q', group='open', project='main')>,\n",
       " <IBMQSimulator('simulator_statevector') from IBMQ(hub='ibm-q', group='open', project='main')>,\n",
       " <IBMQSimulator('simulator_mps') from IBMQ(hub='ibm-q', group='open', project='main')>,\n",
       " <IBMQSimulator('simulator_extended_stabilizer') from IBMQ(hub='ibm-q', group='open', project='main')>,\n",
       " <IBMQSimulator('simulator_stabilizer') from IBMQ(hub='ibm-q', group='open', project='main')>,\n",
       " <IBMQBackend('ibmq_manila') from IBMQ(hub='ibm-q', group='open', project='main')>,\n",
       " <IBMQBackend('ibm_nairobi') from IBMQ(hub='ibm-q', group='open', project='main')>,\n",
       " <IBMQBackend('ibm_oslo') from IBMQ(hub='ibm-q', group='open', project='main')>]"
      ]
     },
     "execution_count": 14,
     "metadata": {},
     "output_type": "execute_result"
    }
   ],
   "source": [
    "# guadalupe = provider.get_backend(\"ibmq_guadalupe\")\n",
    "provider.backends()"
   ]
  },
  {
   "cell_type": "code",
   "execution_count": 15,
   "id": "650591e9",
   "metadata": {},
   "outputs": [],
   "source": [
    "# Real backend; needed for transpilation later on\n",
    "nairobi = provider.get_backend(\"ibm_nairobi\")"
   ]
  },
  {
   "cell_type": "code",
   "execution_count": 16,
   "id": "40e27b98",
   "metadata": {},
   "outputs": [
    {
     "data": {
      "image/png": "[encoded data removed]",
      "text/plain": [
       "<Figure size 432x288 with 1 Axes>"
      ]
     },
     "metadata": {},
     "output_type": "display_data"
    }
   ],
   "source": [
    "# Kagome unit cell\n",
    "num_qubits = 7\n",
    "# Edge weight\n",
    "t = 1.0\n",
    "\n",
    "# Generate graph of kagome unit cell\n",
    "# Start by defining all the edges\n",
    "graph_7 = rx.PyGraph(multigraph=False)\n",
    "graph_7.add_nodes_from(range(num_qubits))\n",
    "edge_list = [\n",
    "    (4, 5, t),\n",
    "    (5, 6, t),\n",
    "    (6, 4, t)]\n",
    "\n",
    "# Generate graph from the list of edges\n",
    "graph_7.add_edges_from(edge_list)\n",
    "\n",
    "# Make a Lattice from graph\n",
    "kagome_unit_cell_7 = Lattice(graph_7)\n",
    "\n",
    "# Draw Lattice\n",
    "kagome_pos = {0:[1,-1.2], 1:[1.5, -1.2], 2:[2, -1.2], 3:[2.5, -1.2],\n",
    "              4:[0,-1],\n",
    "              5:[0.5,0], \n",
    "              6:[-0.5,0]}\n",
    "kagome_unit_cell_7.draw(style={'node_color':'red', 'with_labels':True, 'pos':kagome_pos})\n",
    "# plt.savefig('kagome_unit_cell.png')\n",
    "plt.show()"
   ]
  },
  {
   "cell_type": "code",
   "execution_count": 17,
   "id": "1649067b",
   "metadata": {},
   "outputs": [
    {
     "data": {
      "text/plain": [
       "PauliSumOp(SparsePauliOp(['ZZIIIII', 'ZIZIIII', 'IZZIIII', 'YYIIIII', 'YIYIIII', 'IYYIIII', 'XXIIIII', 'XIXIIII', 'IXXIIII'],\n",
       "              coeffs=[1.+0.j, 1.+0.j, 1.+0.j, 1.+0.j, 1.+0.j, 1.+0.j, 1.+0.j, 1.+0.j, 1.+0.j]), coeff=1)"
      ]
     },
     "execution_count": 17,
     "metadata": {},
     "output_type": "execute_result"
    }
   ],
   "source": [
    "# Build Hamiltonian from graph edges\n",
    "heis_7 = HeisenbergModel.uniform_parameters(\n",
    "    lattice=kagome_unit_cell_7,\n",
    "    uniform_interaction=t,\n",
    "    uniform_onsite_potential=0.0,  # No singe site external field\n",
    ")\n",
    "\n",
    "# Map from SpinOp to qubits just as before.\n",
    "log_mapper = LogarithmicMapper()\n",
    "ham_7 = 4 * log_mapper.map(heis_7.second_q_ops().simplify())\n",
    "# Print Hamiltonian to check it's what we expect:\n",
    "# 9 ZZ, 9 YY, and 9 XX terms over 7 qubits instead of over 6 qubits\n",
    "ham_7"
   ]
  },
  {
   "cell_type": "code",
   "execution_count": 18,
   "id": "d375a104",
   "metadata": {},
   "outputs": [],
   "source": [
    "from qiskit.circuit.library import EfficientSU2"
   ]
  },
  {
   "cell_type": "code",
   "execution_count": 19,
   "id": "cb1a54a6",
   "metadata": {},
   "outputs": [
    {
     "data": {
      "text/html": [
       "<pre style=\"word-wrap: normal;white-space: pre;background: #fff0;line-height: 1.1;font-family: &quot;Courier New&quot;,Courier,monospace\">     ┌──────────┐┌──────────┐          ┌──────────┐┌──────────┐                       ┌───────────┐┌───────────┐                       ┌───────────┐┌───────────┐                            \n",
       "q_0: ┤ Ry(θ[0]) ├┤ Rz(θ[3]) ├──■────■──┤ Ry(θ[6]) ├┤ Rz(θ[9]) ├───────────────■────■──┤ Ry(θ[12]) ├┤ Rz(θ[15]) ├───────────────■────■──┤ Ry(θ[18]) ├┤ Rz(θ[21]) ├───────────────■────■───────\n",
       "     ├──────────┤├──────────┤┌─┴─┐  │  └──────────┘├──────────┤┌───────────┐┌─┴─┐  │  └───────────┘├───────────┤┌───────────┐┌─┴─┐  │  └───────────┘├───────────┤┌───────────┐┌─┴─┐  │       \n",
       "q_1: ┤ Ry(θ[1]) ├┤ Rz(θ[4]) ├┤ X ├──┼───────■──────┤ Ry(θ[7]) ├┤ Rz(θ[10]) ├┤ X ├──┼────────■──────┤ Ry(θ[13]) ├┤ Rz(θ[16]) ├┤ X ├──┼────────■──────┤ Ry(θ[19]) ├┤ Rz(θ[22]) ├┤ X ├──┼────■──\n",
       "     ├──────────┤├──────────┤└───┘┌─┴─┐   ┌─┴─┐    ├──────────┤├───────────┤└───┘┌─┴─┐    ┌─┴─┐    ├───────────┤├───────────┤└───┘┌─┴─┐    ┌─┴─┐    ├───────────┤├───────────┤└───┘┌─┴─┐┌─┴─┐\n",
       "q_2: ┤ Ry(θ[2]) ├┤ Rz(θ[5]) ├─────┤ X ├───┤ X ├────┤ Ry(θ[8]) ├┤ Rz(θ[11]) ├─────┤ X ├────┤ X ├────┤ Ry(θ[14]) ├┤ Rz(θ[17]) ├─────┤ X ├────┤ X ├────┤ Ry(θ[20]) ├┤ Rz(θ[23]) ├─────┤ X ├┤ X ├\n",
       "     └──────────┘└──────────┘     └───┘   └───┘    └──────────┘└───────────┘     └───┘    └───┘    └───────────┘└───────────┘     └───┘    └───┘    └───────────┘└───────────┘     └───┘└───┘</pre>"
      ],
      "text/plain": [
       "     ┌──────────┐┌──────────┐          ┌──────────┐┌──────────┐                       ┌───────────┐┌───────────┐                       ┌───────────┐┌───────────┐                            \n",
       "q_0: ┤ Ry(θ[0]) ├┤ Rz(θ[3]) ├──■────■──┤ Ry(θ[6]) ├┤ Rz(θ[9]) ├───────────────■────■──┤ Ry(θ[12]) ├┤ Rz(θ[15]) ├───────────────■────■──┤ Ry(θ[18]) ├┤ Rz(θ[21]) ├───────────────■────■───────\n",
       "     ├──────────┤├──────────┤┌─┴─┐  │  └──────────┘├──────────┤┌───────────┐┌─┴─┐  │  └───────────┘├───────────┤┌───────────┐┌─┴─┐  │  └───────────┘├───────────┤┌───────────┐┌─┴─┐  │       \n",
       "q_1: ┤ Ry(θ[1]) ├┤ Rz(θ[4]) ├┤ X ├──┼───────■──────┤ Ry(θ[7]) ├┤ Rz(θ[10]) ├┤ X ├──┼────────■──────┤ Ry(θ[13]) ├┤ Rz(θ[16]) ├┤ X ├──┼────────■──────┤ Ry(θ[19]) ├┤ Rz(θ[22]) ├┤ X ├──┼────■──\n",
       "     ├──────────┤├──────────┤└───┘┌─┴─┐   ┌─┴─┐    ├──────────┤├───────────┤└───┘┌─┴─┐    ┌─┴─┐    ├───────────┤├───────────┤└───┘┌─┴─┐    ┌─┴─┐    ├───────────┤├───────────┤└───┘┌─┴─┐┌─┴─┐\n",
       "q_2: ┤ Ry(θ[2]) ├┤ Rz(θ[5]) ├─────┤ X ├───┤ X ├────┤ Ry(θ[8]) ├┤ Rz(θ[11]) ├─────┤ X ├────┤ X ├────┤ Ry(θ[14]) ├┤ Rz(θ[17]) ├─────┤ X ├────┤ X ├────┤ Ry(θ[20]) ├┤ Rz(θ[23]) ├─────┤ X ├┤ X ├\n",
       "     └──────────┘└──────────┘     └───┘   └───┘    └──────────┘└───────────┘     └───┘    └───┘    └───────────┘└───────────┘     └───┘    └───┘    └───────────┘└───────────┘     └───┘└───┘"
      ]
     },
     "execution_count": 19,
     "metadata": {},
     "output_type": "execute_result"
    }
   ],
   "source": [
    "# Construct ansatz from qiskit circuit library functions\n",
    "# See docs for full details\n",
    "ansatz = EfficientSU2(3, entanglement='full', reps=4, skip_final_rotation_layer=True).decompose()\n",
    "ansatz.draw(fold=300)"
   ]
  },
  {
   "cell_type": "code",
   "execution_count": 20,
   "id": "75f6fb37",
   "metadata": {},
   "outputs": [
    {
     "data": {
      "text/html": [
       "<pre style=\"word-wrap: normal;white-space: pre;background: #fff0;line-height: 1.1;font-family: &quot;Courier New&quot;,Courier,monospace\">     ┌───┐           ┌─────────┐┌─────────┐          \n",
       "q_0: ┤ H ├─────■─────┤ Rz(θ_0) ├┤ Ry(θ_1) ├──■───────\n",
       "     └───┘   ┌─┴─┐   ├─────────┤├─────────┤┌─┴─┐     \n",
       "q_1: ────────┤ X ├───┤ Rz(θ_2) ├┤ Ry(θ_3) ├┤ X ├──■──\n",
       "     ┌───┐┌──┴───┴──┐├─────────┤└─────────┘└───┘┌─┴─┐\n",
       "q_2: ┤ H ├┤ Rz(θ_4) ├┤ Ry(θ_5) ├────────────────┤ X ├\n",
       "     └───┘└─────────┘└─────────┘                └───┘</pre>"
      ],
      "text/plain": [
       "     ┌───┐           ┌─────────┐┌─────────┐          \n",
       "q_0: ┤ H ├─────■─────┤ Rz(θ_0) ├┤ Ry(θ_1) ├──■───────\n",
       "     └───┘   ┌─┴─┐   ├─────────┤├─────────┤┌─┴─┐     \n",
       "q_1: ────────┤ X ├───┤ Rz(θ_2) ├┤ Ry(θ_3) ├┤ X ├──■──\n",
       "     ┌───┐┌──┴───┴──┐├─────────┤└─────────┘└───┘┌─┴─┐\n",
       "q_2: ┤ H ├┤ Rz(θ_4) ├┤ Ry(θ_5) ├────────────────┤ X ├\n",
       "     └───┘└─────────┘└─────────┘                └───┘"
      ]
     },
     "execution_count": 20,
     "metadata": {},
     "output_type": "execute_result"
    }
   ],
   "source": [
    "# # Build a custom ansatz from scratch\n",
    "# ansatz_custom = QuantumCircuit(3)\n",
    "# # build initial state\n",
    "\n",
    "# ansatz_custom.h(0)\n",
    "# ansatz_custom.h(2)\n",
    "# ansatz_custom.cx(0,1)\n",
    "\n",
    "# # First layer\n",
    "# j = 0\n",
    "# for i in range(3):\n",
    "#     ansatz_custom.rz(Parameter('θ_' + str(j)), i)\n",
    "#     j += 1\n",
    "#     ansatz_custom.ry(Parameter('θ_' + str(j)), i)\n",
    "#     j += 1\n",
    "    \n",
    "# ansatz_custom.cx(range(0, 2), range(1, 3))\n",
    "\n",
    "# ansatz_custom.draw(fold=250)"
   ]
  },
  {
   "cell_type": "code",
   "execution_count": 67,
   "id": "c49dc77d",
   "metadata": {},
   "outputs": [
    {
     "data": {
      "text/html": [
       "<pre style=\"word-wrap: normal;white-space: pre;background: #fff0;line-height: 1.1;font-family: &quot;Courier New&quot;,Courier,monospace\">     ┌─────────┐┌───┐                                                           \n",
       "q_0: ┤ Rx(θ_0) ├┤ X ├────────────────────────■──────────────────────────────────\n",
       "     ├─────────┤└─┬─┘┌───────────────┐┌───┐┌─┴─┐┌───┐                           \n",
       "q_1: ┤ Rx(θ_1) ├──■──┤ Ry(θ_3 + π/2) ├┤ Z ├┤ X ├┤ X ├────────────────────────■──\n",
       "     ├─────────┤     └───────────────┘└───┘└───┘└─┬─┘┌───────────────┐┌───┐┌─┴─┐\n",
       "q_2: ┤ Rx(θ_2) ├──────────────────────────────────■──┤ Ry(θ_4 + π/2) ├┤ Z ├┤ X ├\n",
       "     └─────────┘                                     └───────────────┘└───┘└───┘</pre>"
      ],
      "text/plain": [
       "     ┌─────────┐┌───┐                                                           \n",
       "q_0: ┤ Rx(θ_0) ├┤ X ├────────────────────────■──────────────────────────────────\n",
       "     ├─────────┤└─┬─┘┌───────────────┐┌───┐┌─┴─┐┌───┐                           \n",
       "q_1: ┤ Rx(θ_1) ├──■──┤ Ry(θ_3 + π/2) ├┤ Z ├┤ X ├┤ X ├────────────────────────■──\n",
       "     ├─────────┤     └───────────────┘└───┘└───┘└─┬─┘┌───────────────┐┌───┐┌─┴─┐\n",
       "q_2: ┤ Rx(θ_2) ├──────────────────────────────────■──┤ Ry(θ_4 + π/2) ├┤ Z ├┤ X ├\n",
       "     └─────────┘                                     └───────────────┘└───┘└───┘"
      ]
     },
     "execution_count": 67,
     "metadata": {},
     "output_type": "execute_result"
    }
   ],
   "source": [
    "import math\n",
    "\n",
    "#Build a custom ansatz from scratch\n",
    "ansatz_custom = QuantumCircuit(3)\n",
    "\n",
    "ansatz_custom.rx(Parameter('θ_0'), 0)\n",
    "ansatz_custom.rx(Parameter('θ_1'), 1)\n",
    "ansatz_custom.rx(Parameter('θ_2'), 2)\n",
    "\n",
    "ansatz_custom.cx(1,0)\n",
    "ansatz_custom.ry(Parameter('θ_3')+math.pi/2,1)\n",
    "ansatz_custom.z(1)\n",
    "ansatz_custom.cx(0,1)\n",
    "\n",
    "ansatz_custom.cx(2,1)\n",
    "ansatz_custom.ry(Parameter('θ_4')+math.pi/2,2)\n",
    "ansatz_custom.z(2)\n",
    "ansatz_custom.cx(1,2)\n",
    "\n",
    "ansatz_custom.draw(fold=250)"
   ]
  },
  {
   "cell_type": "code",
   "execution_count": 68,
   "id": "339dbc89",
   "metadata": {},
   "outputs": [],
   "source": [
    "q_layout = [4, 5, 6]\n",
    "ansatz_opt = transpile(ansatz_custom, backend=nairobi, initial_layout=q_layout)"
   ]
  },
  {
   "cell_type": "code",
   "execution_count": 69,
   "id": "a8eaffe9",
   "metadata": {},
   "outputs": [
    {
     "name": "stdout",
     "output_type": "stream",
     "text": [
      "number and type of gates in the cirucit: OrderedDict([('rz', 11), ('sx', 10), ('cx', 4)])\n",
      "number of parameters in the circuit: 5\n"
     ]
    },
    {
     "data": {
      "text/html": [
       "<pre style=\"word-wrap: normal;white-space: pre;background: #fff0;line-height: 1.1;font-family: &quot;Courier New&quot;,Courier,monospace\">global phase: π/2\n",
       "                                                                                                                                                 \n",
       "ancilla_0 -> 0 ──────────────────────────────────────────────────────────────────────────────────────────────────────────────────────────────────\n",
       "                                                                                                                                                 \n",
       "ancilla_1 -> 1 ──────────────────────────────────────────────────────────────────────────────────────────────────────────────────────────────────\n",
       "                                                                                                                                                 \n",
       "ancilla_2 -> 2 ──────────────────────────────────────────────────────────────────────────────────────────────────────────────────────────────────\n",
       "                                                                                                                                                 \n",
       "ancilla_3 -> 3 ──────────────────────────────────────────────────────────────────────────────────────────────────────────────────────────────────\n",
       "               ┌─────────┐┌────┐┌─────────────┐┌────┐┌──────────┐┌───┐                                                                           \n",
       "      q_0 -> 4 ┤ Rz(π/2) ├┤ √X ├┤ Rz(θ_0 + π) ├┤ √X ├┤ Rz(5π/2) ├┤ X ├────────────────────────────────■──────────────────────────────────────────\n",
       "               ├─────────┤├────┤├─────────────┤├────┤├──────────┤└─┬─┘┌────┐┌────────────────┐┌────┐┌─┴─┐┌───┐                                   \n",
       "      q_1 -> 5 ┤ Rz(π/2) ├┤ √X ├┤ Rz(θ_1 + π) ├┤ √X ├┤ Rz(5π/2) ├──■──┤ √X ├┤ Rz(θ_3 + 3π/2) ├┤ √X ├┤ X ├┤ X ├────────────────────────────────■──\n",
       "               ├─────────┤├────┤├─────────────┤├────┤├──────────┤     └────┘└────────────────┘└────┘└───┘└─┬─┘┌────┐┌────────────────┐┌────┐┌─┴─┐\n",
       "      q_2 -> 6 ┤ Rz(π/2) ├┤ √X ├┤ Rz(θ_2 + π) ├┤ √X ├┤ Rz(5π/2) ├──────────────────────────────────────────■──┤ √X ├┤ Rz(θ_4 + 3π/2) ├┤ √X ├┤ X ├\n",
       "               └─────────┘└────┘└─────────────┘└────┘└──────────┘                                             └────┘└────────────────┘└────┘└───┘</pre>"
      ],
      "text/plain": [
       "global phase: π/2\n",
       "                                                                                                                                                 \n",
       "ancilla_0 -> 0 ──────────────────────────────────────────────────────────────────────────────────────────────────────────────────────────────────\n",
       "                                                                                                                                                 \n",
       "ancilla_1 -> 1 ──────────────────────────────────────────────────────────────────────────────────────────────────────────────────────────────────\n",
       "                                                                                                                                                 \n",
       "ancilla_2 -> 2 ──────────────────────────────────────────────────────────────────────────────────────────────────────────────────────────────────\n",
       "                                                                                                                                                 \n",
       "ancilla_3 -> 3 ──────────────────────────────────────────────────────────────────────────────────────────────────────────────────────────────────\n",
       "               ┌─────────┐┌────┐┌─────────────┐┌────┐┌──────────┐┌───┐                                                                           \n",
       "      q_0 -> 4 ┤ Rz(π/2) ├┤ √X ├┤ Rz(θ_0 + π) ├┤ √X ├┤ Rz(5π/2) ├┤ X ├────────────────────────────────■──────────────────────────────────────────\n",
       "               ├─────────┤├────┤├─────────────┤├────┤├──────────┤└─┬─┘┌────┐┌────────────────┐┌────┐┌─┴─┐┌───┐                                   \n",
       "      q_1 -> 5 ┤ Rz(π/2) ├┤ √X ├┤ Rz(θ_1 + π) ├┤ √X ├┤ Rz(5π/2) ├──■──┤ √X ├┤ Rz(θ_3 + 3π/2) ├┤ √X ├┤ X ├┤ X ├────────────────────────────────■──\n",
       "               ├─────────┤├────┤├─────────────┤├────┤├──────────┤     └────┘└────────────────┘└────┘└───┘└─┬─┘┌────┐┌────────────────┐┌────┐┌─┴─┐\n",
       "      q_2 -> 6 ┤ Rz(π/2) ├┤ √X ├┤ Rz(θ_2 + π) ├┤ √X ├┤ Rz(5π/2) ├──────────────────────────────────────────■──┤ √X ├┤ Rz(θ_4 + 3π/2) ├┤ √X ├┤ X ├\n",
       "               └─────────┘└────┘└─────────────┘└────┘└──────────┘                                             └────┘└────────────────┘└────┘└───┘"
      ]
     },
     "execution_count": 69,
     "metadata": {},
     "output_type": "execute_result"
    }
   ],
   "source": [
    "print('number and type of gates in the cirucit:', ansatz_opt.count_ops())\n",
    "print('number of parameters in the circuit:', ansatz_opt.num_parameters)\n",
    "ansatz_opt.draw(fold=300)"
   ]
  },
  {
   "cell_type": "code",
   "execution_count": 70,
   "id": "fc2fada3",
   "metadata": {},
   "outputs": [],
   "source": [
    "from qiskit.algorithms.optimizers import SPSA\n",
    "\n",
    "optimizer = SPSA(maxiter=3000)"
   ]
  },
  {
   "cell_type": "code",
   "execution_count": 71,
   "id": "b4b990c2",
   "metadata": {},
   "outputs": [],
   "source": [
    "from qiskit.algorithms import MinimumEigensolver, VQEResult\n",
    "\n",
    "# Define a custome VQE class to orchestra the ansatz, classical optimizers, \n",
    "# initial point, callback, and final result\n",
    "class CustomVQE(MinimumEigensolver):\n",
    "    \n",
    "    def __init__(self, estimator, circuit, optimizer, callback=None):\n",
    "        self._estimator = estimator\n",
    "        self._circuit = circuit\n",
    "        self._optimizer = optimizer\n",
    "        self._callback = callback\n",
    "        \n",
    "    def compute_minimum_eigenvalue(self, operators, aux_operators=None):\n",
    "                \n",
    "        # Define objective function to classically minimize over\n",
    "        def objective(x):\n",
    "            # Execute job with estimator primitive\n",
    "            job = self._estimator.run([self._circuit], [operators], [x])\n",
    "            # Get results from jobs\n",
    "            est_result = job.result()\n",
    "            # Get the measured energy value\n",
    "            value = est_result.values[0]\n",
    "            # Save result information using callback function\n",
    "            if self._callback is not None:\n",
    "                self._callback(value)\n",
    "            return value\n",
    "            \n",
    "        # Select an initial point for the ansatzs' parameters\n",
    "        x0 = np.pi/4 * np.random.rand(self._circuit.num_parameters)\n",
    "        \n",
    "        # Run optimization\n",
    "        res = self._optimizer.minimize(objective, x0=x0)\n",
    "        \n",
    "        # Populate VQE result\n",
    "        result = VQEResult()\n",
    "        result.cost_function_evals = res.nfev\n",
    "        result.eigenvalue = res.fun\n",
    "        result.optimal_parameters = res.x\n",
    "        return result"
   ]
  },
  {
   "cell_type": "code",
   "execution_count": 72,
   "id": "50cb58c6",
   "metadata": {},
   "outputs": [],
   "source": [
    "# Define a simple callback function\n",
    "intermediate_info = []\n",
    "def callback(value):\n",
    "        intermediate_info.append(value)"
   ]
  },
  {
   "cell_type": "code",
   "execution_count": 73,
   "id": "6a21e824",
   "metadata": {},
   "outputs": [],
   "source": [
    "from qiskit.primitives import Estimator"
   ]
  },
  {
   "cell_type": "code",
   "execution_count": 74,
   "id": "56e06629",
   "metadata": {},
   "outputs": [
    {
     "name": "stdout",
     "output_type": "stream",
     "text": [
      "{   'aux_operator_eigenvalues': None,\n",
      "    'cost_function_evals': 6000,\n",
      "    'eigenstate': None,\n",
      "    'eigenvalue': -3.0,\n",
      "    'optimal_circuit': None,\n",
      "    'optimal_parameters': array([ 1.68208154e-01,  2.21551079e-13,  2.23793417e-13, -1.12303232e-14,\n",
      "        1.57079633e+00]),\n",
      "    'optimal_point': None,\n",
      "    'optimal_value': None,\n",
      "    'optimizer_evals': None,\n",
      "    'optimizer_result': None,\n",
      "    'optimizer_time': None}\n",
      "execution time (s): 10.88\n"
     ]
    }
   ],
   "source": [
    "# Define instance of qiskit-terra's Estimator primitive\n",
    "estimator = Estimator([ansatz_opt], [ham_7])\n",
    "\n",
    "# Setup VQE algorithm\n",
    "custom_vqe = CustomVQE(estimator, ansatz_opt, optimizer, callback=callback)\n",
    "\n",
    "# Run the custom VQE function and monitor execution time\n",
    "start = time()\n",
    "result = custom_vqe.compute_minimum_eigenvalue(ham_7)\n",
    "end = time()\n",
    "\n",
    "print(result)\n",
    "print(f'execution time (s): {end - start:.2f}')"
   ]
  },
  {
   "cell_type": "code",
   "execution_count": 75,
   "id": "d6650964",
   "metadata": {},
   "outputs": [
    {
     "data": {
      "image/png": "[encoded data removed]",
      "text/plain": [
       "<Figure size 432x288 with 1 Axes>"
      ]
     },
     "metadata": {
      "needs_background": "light"
     },
     "output_type": "display_data"
    }
   ],
   "source": [
    "plt.plot(intermediate_info, color='purple', lw=2, label='Simulated VQE')\n",
    "plt.ylabel('Energy')\n",
    "plt.xlabel('Iterations')\n",
    "# Exact ground state energy value\n",
    "plt.axhline(y=gs_energy, color=\"tab:red\", ls=\"--\", lw=2, label=\"Target: \" + str(gs_energy))\n",
    "plt.legend()\n",
    "plt.grid()\n",
    "plt.show()"
   ]
  },
  {
   "cell_type": "code",
   "execution_count": null,
   "id": "b657ab96",
   "metadata": {},
   "outputs": [],
   "source": [
    "def rel_err(target, measured):\n",
    "    return abs((target - measured) / target)\n",
    "\n",
    "# Compute the relative error between the expected ground state energy and the VQE's output\n",
    "rel_error = rel_err(gs_energy, result.eigenvalue)\n",
    "\n",
    "print(f'Expected ground state energy: {gs_energy:.10f}')\n",
    "print(f'Computed ground state energy: {result.eigenvalue:.10f}')\n",
    "print(f'Relative error: {rel_error:.8f}')"
   ]
  },
  {
   "cell_type": "code",
   "execution_count": null,
   "id": "ff7d6abe",
   "metadata": {},
   "outputs": [],
   "source": [
    "from qiskit_ibm_runtime import (QiskitRuntimeService, Session,\n",
    "                                Estimator as RuntimeEstimator)\n",
    "from qiskit import Aer"
   ]
  },
  {
   "cell_type": "code",
   "execution_count": null,
   "id": "9c630a2b",
   "metadata": {},
   "outputs": [],
   "source": [
    "# Save an IBM Quantum account. See docs for credential security warning\n",
    "# https://github.com/Qiskit/qiskit-ibm-runtime/tree/stable/0.7#saving-account-on-disk\n",
    "\n",
    "# TOKEN='55e2df6536e204c8a32fde954a4936945598573d6bbc08eeb38f2479e791aa66bea18252ca378bf445189a9d6deace7c734c7703753c9540ab663ad7ff16a299'\n",
    "\n",
    "# QiskitRuntimeService.save_account(channel=\"ibm_quantum\", token=TOKEN)"
   ]
  },
  {
   "cell_type": "code",
   "execution_count": null,
   "id": "56f00576",
   "metadata": {},
   "outputs": [],
   "source": [
    "service = QiskitRuntimeService(channel='ibm_quantum')"
   ]
  },
  {
   "cell_type": "code",
   "execution_count": null,
   "id": "a470ad40",
   "metadata": {},
   "outputs": [],
   "source": [
    "# print available backend and select one\n",
    "print('Simulators:', service.backends(simulator=True))\n",
    "\n",
    "# Select a simulator backend\n",
    "backend = 'simulator_statevector'"
   ]
  },
  {
   "cell_type": "code",
   "execution_count": null,
   "id": "171ccacd",
   "metadata": {},
   "outputs": [],
   "source": [
    "# Define a simple callback function\n",
    "intermediate_info_sim_backend = []\n",
    "def callback_sim(value):\n",
    "        intermediate_info_sim_backend.append(value)"
   ]
  },
  {
   "cell_type": "code",
   "execution_count": null,
   "id": "c6963eab",
   "metadata": {},
   "outputs": [],
   "source": [
    "# Setup Estimator\n",
    "start = time()\n",
    "with Session(service=service, backend=backend) as session:\n",
    "    # Prepare primitive\n",
    "    rt_estimator = RuntimeEstimator(session=session)\n",
    "    # Set up algorithm\n",
    "    custom_vqe = CustomVQE(rt_estimator, ansatz_opt, optimizer, callback=callback_sim)\n",
    "    # Run algorithm\n",
    "    result = custom_vqe.compute_minimum_eigenvalue(ham_7)\n",
    "end = time()\n",
    "print(f'execution time (s): {end - start:.2f}')"
   ]
  },
  {
   "cell_type": "code",
   "execution_count": null,
   "id": "c563867b",
   "metadata": {},
   "outputs": [],
   "source": [
    "plt.plot(intermediate_info_sim_backend, color='purple', lw=2, label='Simulated VQE')\n",
    "plt.ylabel('Energy')\n",
    "plt.xlabel('Iterations')\n",
    "plt.axhline(y=gs_energy, color=\"tab:red\", ls=\"--\", lw=2, label=\"Target: \" + str(gs_energy))\n",
    "plt.legend()\n",
    "plt.grid()\n",
    "plt.show()"
   ]
  },
  {
   "cell_type": "code",
   "execution_count": null,
   "id": "cec5c887",
   "metadata": {},
   "outputs": [],
   "source": [
    "# Compute the relative error between the expected ground state energy and the measured\n",
    "rel_error = rel_err(gs_energy, result.eigenvalue)\n",
    "\n",
    "print(f'Expected ground state energy: {gs_energy:.10f}')\n",
    "print(f'Computed ground state energy: {result.eigenvalue:.10f}')\n",
    "print(f'Relative error: {rel_error:.8f}')"
   ]
  },
  {
   "cell_type": "code",
   "execution_count": null,
   "id": "10b9b6c5",
   "metadata": {},
   "outputs": [],
   "source": [
    "service = QiskitRuntimeService(channel='ibm_quantum')\n",
    "print('Simulators:', service.backends())"
   ]
  },
  {
   "cell_type": "code",
   "execution_count": null,
   "id": "1de31c55",
   "metadata": {},
   "outputs": [],
   "source": [
    "backend = 'ibm_nairobi'"
   ]
  },
  {
   "cell_type": "code",
   "execution_count": null,
   "id": "37f5f120",
   "metadata": {},
   "outputs": [],
   "source": [
    "# Define a simple callback function\n",
    "intermediate_info_real_backend = []\n",
    "def callback_real(value):\n",
    "        intermediate_info_real_backend.append(value)"
   ]
  },
  {
   "cell_type": "code",
   "execution_count": null,
   "id": "a8669e57",
   "metadata": {},
   "outputs": [],
   "source": [
    "# Setup Estimator\n",
    "start = time()\n",
    "with Session(service=service, backend=backend) as session:\n",
    "    # Prepare primitive\n",
    "    rt_estimator = RuntimeEstimator(session=session)\n",
    "    # set up algorithm\n",
    "    custom_vqe = CustomVQE(rt_estimator, ansatz_opt, optimizer, callback=callback_real)\n",
    "    # run algorithm\n",
    "    result = custom_vqe.compute_minimum_eigenvalue(ham_7)\n",
    "end = time()\n",
    "print(f'execution time (s): {end - start:.2f}')"
   ]
  },
  {
   "cell_type": "code",
   "execution_count": null,
   "id": "105445db",
   "metadata": {},
   "outputs": [],
   "source": [
    "plt.plot(intermediate_info_real_backend, color='purple', lw=2, label='VQE')\n",
    "plt.ylabel('Energy')\n",
    "plt.xlabel('Iterations')\n",
    "plt.axhline(y=gs_energy, color=\"tab:red\", ls=\"--\", lw=2, label=\"Target: \" + str(gs_energy))\n",
    "plt.legend()\n",
    "plt.grid()\n",
    "plt.show()"
   ]
  },
  {
   "cell_type": "code",
   "execution_count": null,
   "id": "afad2182",
   "metadata": {},
   "outputs": [],
   "source": [
    "# Compute the relative error between the expected ground state energy and the measured\n",
    "computed_gse = intermediate_info_real_backend[-1]\n",
    "\n",
    "print(f'Expected ground state energy: {gs_energy:.8f}')\n",
    "print(f'Computed ground state energy: {computed_gse:.8f}')\n",
    "print(f'Relative error: {100 * rel_err(gs_energy, computed_gse):.8f} %')"
   ]
  },
  {
   "cell_type": "code",
   "execution_count": null,
   "id": "e28b5e6b",
   "metadata": {},
   "outputs": [],
   "source": [
    "#run using FakeGuadalupe - see kagome-vqe-practice-2-FakeGuadalupe notebook"
   ]
  },
  {
   "cell_type": "code",
   "execution_count": null,
   "id": "38495444",
   "metadata": {},
   "outputs": [],
   "source": [
    "#run using FakeGuadalupeV2 - see kagome-vqe-practice-3-FakeGuadalupev2 notebook"
   ]
  },
  {
   "cell_type": "code",
   "execution_count": null,
   "id": "80f17c86",
   "metadata": {},
   "outputs": [],
   "source": [
    "#run using a newly generated simulator for ibmq_guadalupe - see kagome-vqe-practice-4-latestFakeGuadalupe notebook\n",
    "\n",
    "#this cannot be done as generating the most recent snapshot for even the real machine seems to require access to the real machine\n",
    "\n",
    "#in other words, ibmq_guadalupe should come in the list of my available backends before I can pass it to the AerSimulator to generate its corresponding fake backend using the most recent calibration results\n",
    "\n",
    "#this is all if I understood things correctly\n",
    "\n",
    "#for more on fake backend providers and how to generate the corresponding fake backend corresponding to the most recent calibration results, see: https://qiskit.org/documentation/apidoc/providers_fake_provider.html"
   ]
  }
 ],
 "metadata": {
  "kernelspec": {
   "display_name": "Python 3 (ipykernel)",
   "language": "python",
   "name": "python3"
  },
  "language_info": {
   "codemirror_mode": {
    "name": "ipython",
    "version": 3
   },
   "file_extension": ".py",
   "mimetype": "text/x-python",
   "name": "python",
   "nbconvert_exporter": "python",
   "pygments_lexer": "ipython3",
   "version": "3.9.7"
  }
 },
 "nbformat": 4,
 "nbformat_minor": 5
}
